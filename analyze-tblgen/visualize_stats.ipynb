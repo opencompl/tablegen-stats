{
 "cells": [
  {
   "cell_type": "markdown",
   "id": "7c0a5923-c53b-41d2-8074-9b243de70565",
   "metadata": {
    "tags": []
   },
   "source": [
    "# Setup"
   ]
  },
  {
   "cell_type": "markdown",
   "id": "009d9164-f4a9-48ee-bf0b-f00c360a650a",
   "metadata": {},
   "source": [
    "Import the relevant packages:"
   ]
  },
  {
   "cell_type": "code",
   "execution_count": 1,
   "id": "02091e87-670f-469f-b39c-293fc1f4a114",
   "metadata": {},
   "outputs": [],
   "source": [
    "from main import *"
   ]
  },
  {
   "cell_type": "markdown",
   "id": "3156d9dd-0eb2-4f5f-92ba-85f8c6b24cd8",
   "metadata": {},
   "source": [
    "Get the data from TableGen:"
   ]
  },
  {
   "cell_type": "code",
   "execution_count": 9,
   "id": "a1e14519-1ece-4d6e-ba65-4df5f59072e8",
   "metadata": {},
   "outputs": [],
   "source": [
    "%%capture\n",
    "stats = get_stat_from_files()"
   ]
  },
  {
   "cell_type": "code",
   "execution_count": 7,
   "id": "49a94af1-3869-4638-ba4a-2c0bf390ebd0",
   "metadata": {},
   "outputs": [
    {
     "name": "stdout",
     "output_type": "stream",
     "text": [
      "Dialect builtin {\n",
      "  Type Builtin_BFloat16 {\n",
      "    Parameters ()\n",
      "  }\n",
      "  Type Builtin_Complex {\n",
      "    Parameters (elementType: \"Type\")\n",
      "  }\n",
      "  Type Builtin_Float128 {\n",
      "    Parameters ()\n",
      "  }\n",
      "  Type Builtin_Float16 {\n",
      "    Parameters ()\n",
      "  }\n",
      "  Type Builtin_Float32 {\n",
      "    Parameters ()\n",
      "  }\n",
      "  Type Builtin_Float64 {\n",
      "    Parameters ()\n",
      "  }\n",
      "  Type Builtin_Float80 {\n",
      "    Parameters ()\n",
      "  }\n",
      "  Type Builtin_Function {\n",
      "    Parameters (inputs: \"ArrayRef<Type>\", results: \"ArrayRef<Type>\")\n",
      "  }\n",
      "  Type Builtin_Index {\n",
      "    Parameters ()\n",
      "  }\n",
      "  Type Builtin_Integer {\n",
      "    Parameters (width: \"unsigned\", signedness: \"SignednessSemantics\")\n",
      "    CppVerifier \"verify($_self)\"\n",
      "  }\n",
      "  Type Builtin_MemRef {\n",
      "    Parameters (shape: \"::llvm::ArrayRef<int64_t>\", elementType: \"Type\", affineMaps: \"::llvm::ArrayRef<AffineMap>\", memorySpace: \"Attribute\")\n",
      "    CppVerifier \"verify($_self)\"\n",
      "  }\n",
      "  Type Builtin_None {\n",
      "    Parameters ()\n",
      "  }\n",
      "  Type Builtin_Opaque {\n",
      "    Parameters (dialectNamespace: \"Identifier\", typeData: \"::llvm::StringRef\")\n",
      "    CppVerifier \"verify($_self)\"\n",
      "  }\n",
      "  Type Builtin_RankedTensor {\n",
      "    Parameters (shape: \"::llvm::ArrayRef<int64_t>\", elementType: \"Type\", encoding: \"Attribute\")\n",
      "    CppVerifier \"verify($_self)\"\n",
      "  }\n",
      "  Type Builtin_Tuple {\n",
      "    Parameters (types: \"ArrayRef<Type>\")\n",
      "  }\n",
      "  Type Builtin_UnrankedMemRef {\n",
      "    Parameters (elementType: \"Type\", memorySpace: \"Attribute\")\n",
      "  }\n",
      "  Type Builtin_UnrankedTensor {\n",
      "    Parameters (elementType: \"Type\")\n",
      "  }\n",
      "  Type Builtin_Vector {\n",
      "    Parameters (shape: \"::llvm::ArrayRef<int64_t>\", elementType: \"Type\")\n",
      "    CppVerifier \"verify($_self)\"\n",
      "  }\n",
      "  Operation builtin.func {\n",
      "    Attributes (sym_visibility: ::mlir::StringAttr,\n",
      "                type: And<::mlir::TypeAttr, ::mlir::TypeAttr>,\n",
      "                sym_name: ::mlir::StringAttr)\n",
      "  }\n",
      "  Operation builtin.module {\n",
      "    Attributes (sym_visibility: ::mlir::StringAttr,\n",
      "                sym_name: ::mlir::StringAttr)\n",
      "  }\n",
      "  Operation builtin.unrealized_conversion_cast {\n",
      "    Operands (inputs: Variadic<Any>)\n",
      "    Results (outputs: Variadic<Any>)\n",
      "  }\n",
      "}\n"
     ]
    }
   ],
   "source": [
    "stats.dialects[\"builtin\"].print()"
   ]
  }
 ],
 "metadata": {
  "kernelspec": {
   "display_name": "Python 3 (ipykernel)",
   "language": "python",
   "name": "python3"
  },
  "language_info": {
   "codemirror_mode": {
    "name": "ipython",
    "version": 3
   },
   "file_extension": ".py",
   "mimetype": "text/x-python",
   "name": "python",
   "nbconvert_exporter": "python",
   "pygments_lexer": "ipython3",
   "version": "3.9.7"
  }
 },
 "nbformat": 4,
 "nbformat_minor": 5
}
