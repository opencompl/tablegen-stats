{
 "cells": [
  {
   "cell_type": "markdown",
   "id": "7c0a5923-c53b-41d2-8074-9b243de70565",
   "metadata": {
    "tags": []
   },
   "source": [
    "# Setup"
   ]
  },
  {
   "cell_type": "markdown",
   "id": "009d9164-f4a9-48ee-bf0b-f00c360a650a",
   "metadata": {},
   "source": [
    "Import the relevant packages:"
   ]
  },
  {
   "cell_type": "code",
   "execution_count": 76,
   "id": "02091e87-670f-469f-b39c-293fc1f4a114",
   "metadata": {},
   "outputs": [],
   "source": [
    "from main import *\n",
    "import ipywidgets as widgets\n",
    "import matplotlib.pyplot as plt"
   ]
  },
  {
   "cell_type": "markdown",
   "id": "3156d9dd-0eb2-4f5f-92ba-85f8c6b24cd8",
   "metadata": {},
   "source": [
    "Get the data from TableGen:"
   ]
  },
  {
   "cell_type": "code",
   "execution_count": 77,
   "id": "a1e14519-1ece-4d6e-ba65-4df5f59072e8",
   "metadata": {},
   "outputs": [],
   "source": [
    "%%capture\n",
    "stats = get_stat_from_files()\n",
    "dialects = stats.dialects\n",
    "dialect_names = dialects.keys()"
   ]
  },
  {
   "cell_type": "markdown",
   "id": "42f65748-c20a-465b-abe3-090d844dfaa3",
   "metadata": {},
   "source": [
    "A simple bar plotter:"
   ]
  },
  {
   "cell_type": "code",
   "execution_count": 78,
   "id": "2c8235b5-f5ba-4b2a-bfb4-33fb510a2745",
   "metadata": {},
   "outputs": [],
   "source": [
    "def plot_simple_consecutive_integer_data(values):\n",
    "    keys = [str(i) for i in range(len(values))]\n",
    "    fig = plt.figure()\n",
    "    ax = fig.add_axes([0,0,1,1])\n",
    "    ax.bar(keys,values)\n",
    "    plt.show()"
   ]
  },
  {
   "cell_type": "markdown",
   "id": "e520a17f-0f7f-4b9f-8799-1666aa938c33",
   "metadata": {},
   "source": [
    "# Some general statistics on operations"
   ]
  },
  {
   "cell_type": "code",
   "execution_count": 79,
   "id": "fecb9e4b-f32b-4ff5-aab1-7272f931efe0",
   "metadata": {},
   "outputs": [
    {
     "data": {
      "application/vnd.jupyter.widget-view+json": {
       "model_id": "1d957bfc4a4944fd9fcf60bc107c6883",
       "version_major": 2,
       "version_minor": 0
      },
      "text/plain": [
       "interactive(children=(ToggleButtons(description='Category:', options=('operands', 'results', 'regions', 'attri…"
      ]
     },
     "metadata": {},
     "output_type": "display_data"
    }
   ],
   "source": [
    "distribution = dict()\n",
    "distribution[\"operands\"] = get_global_op_distribution(stats, lambda x: x.numOperands)\n",
    "distribution[\"results\"] = get_global_op_distribution(stats, lambda x: x.numResults)\n",
    "distribution[\"regions\"] = get_global_op_distribution(stats, lambda x: x.numRegions)\n",
    "distribution[\"attributes\"] = get_global_op_distribution(stats, lambda x: len(x.attributes))\n",
    "distribution[\"C++ printer\"] = get_global_op_distribution(stats, lambda x: 1 - int(x.hasAssemblyFormat))\n",
    "distribution[\"C++ verifier\"] = get_global_op_distribution(stats, lambda x: int(x.hasVerifier))\n",
    "distribution[\"traits\"] = get_global_op_distribution(stats, lambda x: len(x.traits))\n",
    "distribution[\"interfaces\"] = get_global_op_distribution(stats, lambda x: len(x.interfaces))\n",
    "\n",
    "category_select = widgets.ToggleButtons(\n",
    "    options=distribution.keys(),\n",
    "    description='Category:',\n",
    "    disabled=False,\n",
    "    button_style='',\n",
    ")\n",
    "\n",
    "@widgets.interact(category=category_select)\n",
    "def category_plot(category):\n",
    "    all_distribution = distribution[category][0]\n",
    "    per_dialect_distribution = distribution[category][1]\n",
    "    \n",
    "    plot_simple_consecutive_integer_data(all_distribution)\n",
    "\n",
    "    toggle_select =widgets.ToggleButtons(\n",
    "        options=dialect_names,\n",
    "        description='Dialect:',\n",
    "        disabled=False,\n",
    "        button_style='', # 'success', 'info', 'warning', 'danger' or ''\n",
    "    )\n",
    "\n",
    "    @widgets.interact(dialect_name=toggle_select)\n",
    "    def plot_dialect(dialect_name):\n",
    "        plot_simple_consecutive_integer_data(per_dialect_distribution[dialect_name])"
   ]
  },
  {
   "cell_type": "code",
   "execution_count": 7,
   "id": "49a94af1-3869-4638-ba4a-2c0bf390ebd0",
   "metadata": {},
   "outputs": [
    {
     "name": "stdout",
     "output_type": "stream",
     "text": [
      "Dialect builtin {\n",
      "  Type Builtin_BFloat16 {\n",
      "    Parameters ()\n",
      "  }\n",
      "  Type Builtin_Complex {\n",
      "    Parameters (elementType: \"Type\")\n",
      "  }\n",
      "  Type Builtin_Float128 {\n",
      "    Parameters ()\n",
      "  }\n",
      "  Type Builtin_Float16 {\n",
      "    Parameters ()\n",
      "  }\n",
      "  Type Builtin_Float32 {\n",
      "    Parameters ()\n",
      "  }\n",
      "  Type Builtin_Float64 {\n",
      "    Parameters ()\n",
      "  }\n",
      "  Type Builtin_Float80 {\n",
      "    Parameters ()\n",
      "  }\n",
      "  Type Builtin_Function {\n",
      "    Parameters (inputs: \"ArrayRef<Type>\", results: \"ArrayRef<Type>\")\n",
      "  }\n",
      "  Type Builtin_Index {\n",
      "    Parameters ()\n",
      "  }\n",
      "  Type Builtin_Integer {\n",
      "    Parameters (width: \"unsigned\", signedness: \"SignednessSemantics\")\n",
      "    CppVerifier \"verify($_self)\"\n",
      "  }\n",
      "  Type Builtin_MemRef {\n",
      "    Parameters (shape: \"::llvm::ArrayRef<int64_t>\", elementType: \"Type\", affineMaps: \"::llvm::ArrayRef<AffineMap>\", memorySpace: \"Attribute\")\n",
      "    CppVerifier \"verify($_self)\"\n",
      "  }\n",
      "  Type Builtin_None {\n",
      "    Parameters ()\n",
      "  }\n",
      "  Type Builtin_Opaque {\n",
      "    Parameters (dialectNamespace: \"Identifier\", typeData: \"::llvm::StringRef\")\n",
      "    CppVerifier \"verify($_self)\"\n",
      "  }\n",
      "  Type Builtin_RankedTensor {\n",
      "    Parameters (shape: \"::llvm::ArrayRef<int64_t>\", elementType: \"Type\", encoding: \"Attribute\")\n",
      "    CppVerifier \"verify($_self)\"\n",
      "  }\n",
      "  Type Builtin_Tuple {\n",
      "    Parameters (types: \"ArrayRef<Type>\")\n",
      "  }\n",
      "  Type Builtin_UnrankedMemRef {\n",
      "    Parameters (elementType: \"Type\", memorySpace: \"Attribute\")\n",
      "  }\n",
      "  Type Builtin_UnrankedTensor {\n",
      "    Parameters (elementType: \"Type\")\n",
      "  }\n",
      "  Type Builtin_Vector {\n",
      "    Parameters (shape: \"::llvm::ArrayRef<int64_t>\", elementType: \"Type\")\n",
      "    CppVerifier \"verify($_self)\"\n",
      "  }\n",
      "  Operation builtin.func {\n",
      "    Attributes (sym_visibility: ::mlir::StringAttr,\n",
      "                type: And<::mlir::TypeAttr, ::mlir::TypeAttr>,\n",
      "                sym_name: ::mlir::StringAttr)\n",
      "  }\n",
      "  Operation builtin.module {\n",
      "    Attributes (sym_visibility: ::mlir::StringAttr,\n",
      "                sym_name: ::mlir::StringAttr)\n",
      "  }\n",
      "  Operation builtin.unrealized_conversion_cast {\n",
      "    Operands (inputs: Variadic<Any>)\n",
      "    Results (outputs: Variadic<Any>)\n",
      "  }\n",
      "}\n"
     ]
    }
   ],
   "source": [
    "stats.dialects[\"builtin\"].print()"
   ]
  }
 ],
 "metadata": {
  "kernelspec": {
   "display_name": "Python 3 (ipykernel)",
   "language": "python",
   "name": "python3"
  },
  "language_info": {
   "codemirror_mode": {
    "name": "ipython",
    "version": 3
   },
   "file_extension": ".py",
   "mimetype": "text/x-python",
   "name": "python",
   "nbconvert_exporter": "python",
   "pygments_lexer": "ipython3",
   "version": "3.9.7"
  }
 },
 "nbformat": 4,
 "nbformat_minor": 5
}
