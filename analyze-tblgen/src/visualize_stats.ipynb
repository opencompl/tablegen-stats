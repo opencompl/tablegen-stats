{
 "cells": [
  {
   "cell_type": "markdown",
   "id": "940a0190-e0d5-456d-860d-37f1758fd9db",
   "metadata": {
    "jp-MarkdownHeadingCollapsed": true,
    "tags": []
   },
   "source": [
    "# Introduction\n",
    "\n",
    "This is a simple notebook that takes data scrapped from ODS/TableGen, and give statistics on the dialects.\n",
    "Note that some manual translation was made to first translate the scrapped C++ verifiers into an IRDL representation."
   ]
  },
  {
   "cell_type": "markdown",
   "id": "7c0a5923-c53b-41d2-8074-9b243de70565",
   "metadata": {
    "tags": []
   },
   "source": [
    "# Setup"
   ]
  },
  {
   "cell_type": "markdown",
   "id": "009d9164-f4a9-48ee-bf0b-f00c360a650a",
   "metadata": {},
   "source": [
    "Import the relevant packages:"
   ]
  },
  {
   "cell_type": "code",
   "execution_count": 1,
   "id": "02091e87-670f-469f-b39c-293fc1f4a114",
   "metadata": {},
   "outputs": [],
   "source": [
    "from analyze_tablegen.main import *\n",
    "import ipywidgets as widgets\n",
    "import matplotlib.pyplot as plt\n",
    "import numpy as np"
   ]
  },
  {
   "cell_type": "markdown",
   "id": "3156d9dd-0eb2-4f5f-92ba-85f8c6b24cd8",
   "metadata": {},
   "source": [
    "Get the cached data from TableGen:"
   ]
  },
  {
   "cell_type": "code",
   "execution_count": 2,
   "id": "a1e14519-1ece-4d6e-ba65-4df5f59072e8",
   "metadata": {},
   "outputs": [],
   "source": [
    "import json\n",
    "    \n",
    "f = open(\"analyze_tablegen/tablegen_data.json\", \"r\")\n",
    "stats = get_stats_from_json(f.read())\n",
    "dialects = stats.dialects\n",
    "dialect_names = dialects.keys()"
   ]
  },
  {
   "cell_type": "markdown",
   "id": "42f65748-c20a-465b-abe3-090d844dfaa3",
   "metadata": {},
   "source": [
    "A simple bar plotter:"
   ]
  },
  {
   "cell_type": "code",
   "execution_count": 3,
   "id": "2c8235b5-f5ba-4b2a-bfb4-33fb510a2745",
   "metadata": {},
   "outputs": [],
   "source": [
    "@dataclass\n",
    "class PlotData:\n",
    "    keys: List[str]\n",
    "    values: List[Union[float, int]]\n",
    "    title: Optional[str]\n",
    "    \n",
    "    def with_integer_keys(values, title=None):\n",
    "        return PlotData([str(i) for i in range(len(values))], values, title=title)\n",
    "\n",
    "@dataclass\n",
    "class MultibarPlotData:\n",
    "    keys: List[str]\n",
    "    values: Dict[str, List[int]]\n",
    "    title: Optional[str]\n",
    "    \n",
    "    def with_integer_keys(values, title=None):\n",
    "        return PlotData([str(i) for i in range(len(next(iter(values.items()))[1]))], values, title=title)\n",
    "    \n",
    "# Map raw data gathered from get_global_*_distribution to plot data\n",
    "def map_dialect_data_to_plot(distribution, title=None):\n",
    "    all_dialects = MultibarPlotData.with_integer_keys(distribution[1], title=title)\n",
    "    dialects_sum = PlotData.with_integer_keys(distribution[0], title=title)\n",
    "    dialects = {dialect_name: PlotData.with_integer_keys(dialect_data, title=title) for dialect_name, dialect_data in distribution[1].items()}\n",
    "    return (all_dialects, dialects_sum, dialects)\n",
    "\n",
    "def get_op_plot_stats(stats, lam, title=None):\n",
    "    return map_dialect_data_to_plot(get_global_op_distribution(stats, lam), title=title)\n",
    "\n",
    "def get_type_plot_stats(stats, lam, title=None):\n",
    "    return map_dialect_data_to_plot(get_global_type_distribution(stats, lam), title=title)\n",
    "\n",
    "def get_attr_plot_stats(stats, lam, title=None):\n",
    "    return map_dialect_data_to_plot(get_global_attr_distribution(stats, lam), title=title)\n",
    "\n",
    "def plot_simple_consecutive_integer_data(plot_data):\n",
    "    fig = plt.bar(plot_data.keys, plot_data.values)\n",
    "    if plot_data.title is not None:\n",
    "        plt.title(plot_data.title)\n",
    "    plt.show()\n",
    "    plt.close()\n",
    "    \n",
    "def plot_multibar_graph(plot_data, colors=None, size=(12, 6)):\n",
    "    results = [r for r in plot_data.values.items()]\n",
    "    labels = [r[0] for r in results]\n",
    "    data = np.array([r[1] for r in results])\n",
    "    data_cum = data.cumsum(axis=1)\n",
    "    if colors is None:\n",
    "        colors = plt.get_cmap('RdYlGn')(np.linspace(1, 0.5, data.shape[1]))\n",
    "\n",
    "    fig = plt.figure(figsize=size)\n",
    "    ax = plt.axes()\n",
    "    ax.invert_yaxis()\n",
    "    ax.set_xlim(0, np.sum(data, axis=1).max())\n",
    "\n",
    "    for i, (colname, color) in enumerate(zip(plot_data.keys, colors)):\n",
    "        widths = data[:, i]\n",
    "        starts = data_cum[:, i] - widths\n",
    "        rects = ax.barh(labels, widths, left=starts, height=0.5,\n",
    "                        label=colname, color=color)\n",
    "\n",
    "        r, g, b, _ = color\n",
    "    ax.legend(ncol=len(plot_data.keys), bbox_to_anchor=(0, 1),\n",
    "              loc='lower left', fontsize='small')\n",
    "    if plot_data.title is not None:\n",
    "        plt.title(plot_data.title)\n",
    "    fig.tight_layout()\n",
    "    plt.show()\n",
    "    plt.close()\n",
    "\n",
    "def category_plot(distribution):\n",
    "    category_select = widgets.ToggleButtons(\n",
    "        options=distribution.keys(),\n",
    "        description='Category:',\n",
    "        disabled=False,\n",
    "        button_style='',\n",
    "    )\n",
    "\n",
    "    @widgets.interact(category=category_select)\n",
    "    def category_plot_(category):\n",
    "        all_distribution = distribution[category][0]\n",
    "        distribution_sum = distribution[category][1]\n",
    "        per_dialect_distribution = distribution[category][2]\n",
    "\n",
    "        plot_multibar_graph(all_distribution)\n",
    "        plot_simple_consecutive_integer_data(distribution_sum)\n",
    "\n",
    "        toggle_select =widgets.ToggleButtons(\n",
    "            options=dialect_names,\n",
    "            description='Dialect:',\n",
    "            disabled=False,\n",
    "            button_style='', # 'success', 'info', 'warning', 'danger' or ''\n",
    "        )\n",
    "\n",
    "        @widgets.interact(dialect_name=toggle_select)\n",
    "        def plot_dialect(dialect_name):\n",
    "            plot_simple_consecutive_integer_data(per_dialect_distribution[dialect_name])"
   ]
  },
  {
   "cell_type": "markdown",
   "id": "e520a17f-0f7f-4b9f-8799-1666aa938c33",
   "metadata": {
    "tags": []
   },
   "source": [
    "# Some general statistics\n",
    "## General statistics on operations"
   ]
  },
  {
   "cell_type": "code",
   "execution_count": 4,
   "id": "fecb9e4b-f32b-4ff5-aab1-7272f931efe0",
   "metadata": {},
   "outputs": [
    {
     "data": {
      "application/vnd.jupyter.widget-view+json": {
       "model_id": "ac0bb75dc0f54b14b60b8d094534303d",
       "version_major": 2,
       "version_minor": 0
      },
      "text/plain": [
       "interactive(children=(ToggleButtons(description='Category:', options=('operands', 'variadic operands', 'result…"
      ]
     },
     "metadata": {},
     "output_type": "display_data"
    }
   ],
   "source": [
    "distribution = dict()\n",
    "distribution[\"operands\"] = get_op_plot_stats(stats, lambda x: x.numOperands, title=\"Distribution of the number of operand definitions\")\n",
    "distribution[\"variadic operands\"] = get_op_plot_stats(stats, lambda x: sum([isinstance(operand.constraint, VariadicConstraint) for operand in x.operands]), title=\"Distribution of the number of variadic operand definitions\")\n",
    "distribution[\"results\"] = get_op_plot_stats(stats, lambda x: x.numResults, title=\"Distribution of the number of result definitions\")\n",
    "distribution[\"variadic results\"] = get_op_plot_stats(stats, lambda x: sum([isinstance(result.constraint, VariadicConstraint) for result in x.results]), title=\"Distribution of the number of variadic result definitions\")\n",
    "distribution[\"multiple results\"] = get_op_plot_stats(stats, lambda x: int(x.numResults > 1 or sum([isinstance(result.constraint, VariadicConstraint) for result in x.results]) > 0), title=\"Distribution of the number of variadic result definitions\")\n",
    "distribution[\"regions\"] = get_op_plot_stats(stats, lambda x: x.numRegions, title=\"Distribution of the number of region definitions\")\n",
    "distribution[\"attributes\"] = get_op_plot_stats(stats, lambda x: len(x.attributes), title=\"Distribution of the number of attribute definitions\")\n",
    "distribution[\"C++ printer\"] = get_op_plot_stats(stats, lambda x: 1 - int(x.hasAssemblyFormat), title=\"Distribution of number of C++ printers\")\n",
    "distribution[\"C++ verifier\"] = get_op_plot_stats(stats, lambda x: int(x.hasVerifier), title=\"Distribution of the number of C++ verifiers\")\n",
    "distribution[\"traits\"] = get_op_plot_stats(stats, lambda x: len(x.traits), title=\"Distribution of the number of traits\")\n",
    "distribution[\"interfaces\"] = get_op_plot_stats(stats, lambda x: len(x.interfaces), title=\"Distribution of the number of interfaces\")\n",
    "\n",
    "category_plot(distribution)"
   ]
  },
  {
   "cell_type": "markdown",
   "id": "1075617c-4655-48b9-95d3-6b831b67b680",
   "metadata": {},
   "source": [
    "## General statistics on types"
   ]
  },
  {
   "cell_type": "code",
   "execution_count": 5,
   "id": "ba4eccf3-4552-42c5-a5e4-934b55be2425",
   "metadata": {},
   "outputs": [
    {
     "data": {
      "application/vnd.jupyter.widget-view+json": {
       "model_id": "62193053ef144ef08acc022345be5e82",
       "version_major": 2,
       "version_minor": 0
      },
      "text/plain": [
       "interactive(children=(ToggleButtons(description='Category:', options=('parameters', 'traits', 'interfaces'), v…"
      ]
     },
     "metadata": {},
     "output_type": "display_data"
    }
   ],
   "source": [
    "distribution = dict()\n",
    "distribution[\"parameters\"] = get_type_plot_stats(stats, lambda x: len(x.parameters), \"Distribution of the number of parameter definitions\")\n",
    "distribution[\"traits\"] = get_type_plot_stats(stats, lambda x: len(x.traits), \"Distribution of the number of traits\")\n",
    "distribution[\"interfaces\"] = get_type_plot_stats(stats, lambda x: len(x.interfaces), \"Distribution of the number of interfaces\")\n",
    "\n",
    "category_plot(distribution)"
   ]
  },
  {
   "cell_type": "markdown",
   "id": "2c49b8ba-6725-484d-aaf2-576573781137",
   "metadata": {},
   "source": [
    "## General statistics on attributes"
   ]
  },
  {
   "cell_type": "code",
   "execution_count": 6,
   "id": "34201011-5886-4567-bc84-347c32ab36a5",
   "metadata": {},
   "outputs": [
    {
     "data": {
      "application/vnd.jupyter.widget-view+json": {
       "model_id": "045f65435aae46e38b88cc674ca9b6c8",
       "version_major": 2,
       "version_minor": 0
      },
      "text/plain": [
       "interactive(children=(ToggleButtons(description='Category:', options=('parameters', 'traits', 'interfaces'), v…"
      ]
     },
     "metadata": {},
     "output_type": "display_data"
    }
   ],
   "source": [
    "distribution = dict()\n",
    "distribution[\"parameters\"] = get_type_plot_stats(stats, lambda x: len(x.parameters), \"Distribution of the number of parameters\")\n",
    "distribution[\"traits\"] = get_type_plot_stats(stats, lambda x: len(x.traits), \"Distribution of the number of traits\")\n",
    "distribution[\"interfaces\"] = get_type_plot_stats(stats, lambda x: len(x.interfaces), \"Distribution of the number of interfaces\")\n",
    "\n",
    "category_plot(distribution)"
   ]
  },
  {
   "cell_type": "markdown",
   "id": "3c72cca4-b9a2-4429-afea-886b8fe55df6",
   "metadata": {},
   "source": [
    "# \"Declarativeness\" of current dialects"
   ]
  },
  {
   "cell_type": "code",
   "execution_count": 13,
   "id": "14025162-65fe-4733-ad18-50d02aaf34fe",
   "metadata": {},
   "outputs": [
    {
     "data": {
      "application/vnd.jupyter.widget-view+json": {
       "model_id": "17e36a9793d645f0bb45c69a453f5505",
       "version_major": 2,
       "version_minor": 0
      },
      "text/plain": [
       "interactive(children=(ToggleButtons(description='Category:', options=('types', 'attributes', 'op has C++ parse…"
      ]
     },
     "metadata": {},
     "output_type": "display_data"
    }
   ],
   "source": [
    "distribution = dict()\n",
    "# TODO check constraints in types/attributes\n",
    "distribution[\"types\"] = get_type_plot_stats(stats, lambda x: int(x.is_declarative()), \"Distribution of types that can be expressed in IRDL\")\n",
    "distribution[\"attributes\"] = get_attr_plot_stats(stats, lambda x: int(x.is_declarative()), \"Distribution of attributes that can be expressed in IRDL\")\n",
    "distribution[\"op has C++ parser\"] = get_op_plot_stats(stats, lambda x: int(not x.hasAssemblyFormat), \"Distribution of the number of C++ printer/parsers on operations\")\n",
    "distribution[\"op has C++ verifier\"] = get_op_plot_stats(stats, lambda x: int(x.hasVerifier), \"Distribution of the number of C++ verifiers on operations\")\n",
    "# Number of operations that have declarative operands/results\n",
    "distribution[\"decl operands/results\"] = get_op_plot_stats(stats, lambda x: int(x.is_operands_results_attrs_declarative()), \"How many operations have operands/results expressable in IRDL\")\n",
    "# Number of operations that have declarative traits\n",
    "distribution[\"decl op traits\"] = get_op_plot_stats(stats, lambda x: int(x.is_traits_declarative()), \"How many operations have traits expressable in IRDL\")\n",
    "# Number of operations that have declarative operands, results, and no C++ verifiers\n",
    "distribution[\"decl ops without traits/interfaces\"] = get_op_plot_stats(stats, lambda x: int(x.is_declarative(check_traits=False, check_interfaces=False)), \"How many operations can be expressed in IRDL without traits and interfaces\")\n",
    "distribution[\"decl ops without interfaces\"] = get_op_plot_stats(stats, lambda x: int(x.is_declarative(check_traits=True, check_interfaces=False)), \"How many operations can be expressed in IRDL without interfaces\")\n",
    "distribution[\"decl ops\"] = get_op_plot_stats(stats, lambda x: int(x.is_declarative(check_traits=True, check_interfaces=True)), \"How many operations can be fully expressed in IRDL\")\n",
    "\n",
    "category_plot(distribution)"
   ]
  },
  {
   "cell_type": "markdown",
   "id": "62128922-43f0-45eb-bc6a-e19be2a2faf6",
   "metadata": {},
   "source": [
    "# Printing dialects in IRDL"
   ]
  },
  {
   "cell_type": "code",
   "execution_count": 52,
   "id": "13c99d96-93a4-409d-bea1-58119a482fc5",
   "metadata": {},
   "outputs": [
    {
     "data": {
      "application/vnd.jupyter.widget-view+json": {
       "model_id": "72d57a773e3445b0ac79bcf4a1ba97e7",
       "version_major": 2,
       "version_minor": 0
      },
      "text/plain": [
       "interactive(children=(ToggleButtons(description='Dialect:', options=('builtin', 'sparse_tensor', 'tosa', 'scf'…"
      ]
     },
     "metadata": {},
     "output_type": "display_data"
    }
   ],
   "source": [
    "import analyze_tablegen.simplifier as simplifier\n",
    "\n",
    "stats_optimized = simplifier.simplify(stats)\n",
    "\n",
    "category_select = widgets.ToggleButtons(\n",
    "    options=dialect_names,\n",
    "    description='Dialect:',\n",
    "    disabled=False,\n",
    "    button_style='',\n",
    ")\n",
    "\n",
    "@widgets.interact(dialect_name=category_select)\n",
    "def print_dialect(dialect_name):\n",
    "    \n",
    "    optimization_select = widgets.ToggleButtons(\n",
    "        options=[\"unoptimized\", \"optimized\"],\n",
    "        description='',\n",
    "        disabled=False,\n",
    "        button_style='',\n",
    "    )\n",
    "    \n",
    "    @widgets.interact(optimization=optimization_select)\n",
    "    def print_optimized(optimization):\n",
    "        if optimization == \"optimized\":\n",
    "            stats_optimized.dialects[dialect_name].print()\n",
    "        else:\n",
    "            stats.dialects[dialect_name].print()"
   ]
  }
 ],
 "metadata": {
  "kernelspec": {
   "display_name": "Python 3 (ipykernel)",
   "language": "python",
   "name": "python3"
  },
  "language_info": {
   "codemirror_mode": {
    "name": "ipython",
    "version": 3
   },
   "file_extension": ".py",
   "mimetype": "text/x-python",
   "name": "python",
   "nbconvert_exporter": "python",
   "pygments_lexer": "ipython3",
   "version": "3.9.7"
  }
 },
 "nbformat": 4,
 "nbformat_minor": 5
}
