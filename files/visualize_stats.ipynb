{
 "cells": [
  {
   "cell_type": "markdown",
   "id": "7c0a5923-c53b-41d2-8074-9b243de70565",
   "metadata": {
    "tags": []
   },
   "source": [
    "# Setup"
   ]
  },
  {
   "cell_type": "markdown",
   "id": "009d9164-f4a9-48ee-bf0b-f00c360a650a",
   "metadata": {},
   "source": [
    "Import the relevant packages:"
   ]
  },
  {
   "cell_type": "code",
   "execution_count": 1,
   "id": "02091e87-670f-469f-b39c-293fc1f4a114",
   "metadata": {},
   "outputs": [],
   "source": [
    "import micropip\n",
    "await micropip.install(\"https://opencompl.github.io/tablegen-stats/files/analyze_tablegen-0.0.1-py3-none-any.whl\")\n",
    "from analyze_tablegen.main import *\n",
    "await micropip.install(\"ipywidgets\")\n",
    "import ipywidgets as widgets\n",
    "import matplotlib.pyplot as plt"
   ]
  },
  {
   "cell_type": "markdown",
   "id": "3156d9dd-0eb2-4f5f-92ba-85f8c6b24cd8",
   "metadata": {},
   "source": [
    "Get the data from TableGen:"
   ]
  },
  {
   "cell_type": "code",
   "execution_count": 2,
   "id": "a1e14519-1ece-4d6e-ba65-4df5f59072e8",
   "metadata": {},
   "outputs": [],
   "source": [
    "import json\n",
    "from js import fetch\n",
    "    \n",
    "res = await fetch('https://opencompl.github.io/tablegen-stats/files/tablegen_data.json')\n",
    "text = await res.text()\n",
    "    \n",
    "stats = get_stats_from_json(text)\n",
    "dialects = stats.dialects\n",
    "dialect_names = dialects.keys()"
   ]
  },
  {
   "cell_type": "markdown",
   "id": "42f65748-c20a-465b-abe3-090d844dfaa3",
   "metadata": {},
   "source": [
    "A simple bar plotter:"
   ]
  },
  {
   "cell_type": "code",
   "execution_count": 3,
   "id": "2c8235b5-f5ba-4b2a-bfb4-33fb510a2745",
   "metadata": {},
   "outputs": [],
   "source": [
    "def plot_simple_consecutive_integer_data(values):\n",
    "    keys = [str(i) for i in range(len(values))]\n",
    "    fig = plt.bar(keys, values)\n",
    "    plt.show()\n",
    "    plt.close()\n",
    "    \n",
    "def category_plot(distribution):\n",
    "    category_select = widgets.ToggleButtons(\n",
    "        options=distribution.keys(),\n",
    "        description='Category:',\n",
    "        disabled=False,\n",
    "        button_style='',\n",
    "    )\n",
    "\n",
    "    @widgets.interact(category=category_select)\n",
    "    def category_plot_(category):\n",
    "        all_distribution = distribution[category][0]\n",
    "        per_dialect_distribution = distribution[category][1]\n",
    "\n",
    "        plot_simple_consecutive_integer_data(all_distribution)\n",
    "\n",
    "        toggle_select =widgets.ToggleButtons(\n",
    "            options=dialect_names,\n",
    "            description='Dialect:',\n",
    "            disabled=False,\n",
    "            button_style='', # 'success', 'info', 'warning', 'danger' or ''\n",
    "        )\n",
    "\n",
    "        @widgets.interact(dialect_name=toggle_select)\n",
    "        def plot_dialect(dialect_name):\n",
    "            plot_simple_consecutive_integer_data(per_dialect_distribution[dialect_name])"
   ]
  },
  {
   "cell_type": "markdown",
   "id": "e520a17f-0f7f-4b9f-8799-1666aa938c33",
   "metadata": {
    "tags": []
   },
   "source": [
    "# Some general statistics\n",
    "## General statistics on operations"
   ]
  },
  {
   "cell_type": "code",
   "execution_count": 4,
   "id": "fecb9e4b-f32b-4ff5-aab1-7272f931efe0",
   "metadata": {},
   "outputs": [
    {
     "data": {
      "application/vnd.jupyter.widget-view+json": {
       "model_id": "5f2ba553250248489db2e3cffba2e052",
       "version_major": 2,
       "version_minor": 0
      },
      "text/plain": [
       "interactive(children=(ToggleButtons(description='Category:', options=('operands', 'results', 'regions', 'attri…"
      ]
     },
     "metadata": {},
     "output_type": "display_data"
    }
   ],
   "source": [
    "distribution = dict()\n",
    "distribution[\"operands\"] = get_global_op_distribution(stats, lambda x: x.numOperands)\n",
    "distribution[\"results\"] = get_global_op_distribution(stats, lambda x: x.numResults)\n",
    "distribution[\"regions\"] = get_global_op_distribution(stats, lambda x: x.numRegions)\n",
    "distribution[\"attributes\"] = get_global_op_distribution(stats, lambda x: len(x.attributes))\n",
    "distribution[\"C++ printer\"] = get_global_op_distribution(stats, lambda x: 1 - int(x.hasAssemblyFormat))\n",
    "distribution[\"C++ verifier\"] = get_global_op_distribution(stats, lambda x: int(x.hasVerifier))\n",
    "distribution[\"traits\"] = get_global_op_distribution(stats, lambda x: len(x.traits))\n",
    "distribution[\"interfaces\"] = get_global_op_distribution(stats, lambda x: len(x.interfaces))\n",
    "\n",
    "category_plot(distribution)"
   ]
  },
  {
   "cell_type": "markdown",
   "id": "1075617c-4655-48b9-95d3-6b831b67b680",
   "metadata": {},
   "source": [
    "## General statistics on types"
   ]
  },
  {
   "cell_type": "code",
   "execution_count": 5,
   "id": "ba4eccf3-4552-42c5-a5e4-934b55be2425",
   "metadata": {},
   "outputs": [
    {
     "data": {
      "application/vnd.jupyter.widget-view+json": {
       "model_id": "8aa1fca8fb94495bbc68181c5e246b8f",
       "version_major": 2,
       "version_minor": 0
      },
      "text/plain": [
       "interactive(children=(ToggleButtons(description='Category:', options=('parameters', 'traits', 'interfaces'), v…"
      ]
     },
     "metadata": {},
     "output_type": "display_data"
    }
   ],
   "source": [
    "distribution = dict()\n",
    "distribution[\"parameters\"] = get_global_type_distribution(stats, lambda x: len(x.parameters))\n",
    "distribution[\"traits\"] = get_global_type_distribution(stats, lambda x: len(x.traits))\n",
    "distribution[\"interfaces\"] = get_global_type_distribution(stats, lambda x: len(x.interfaces))\n",
    "\n",
    "category_plot(distribution)"
   ]
  },
  {
   "cell_type": "markdown",
   "id": "2c49b8ba-6725-484d-aaf2-576573781137",
   "metadata": {},
   "source": [
    "## General statistics on attributes"
   ]
  },
  {
   "cell_type": "code",
   "execution_count": 6,
   "id": "34201011-5886-4567-bc84-347c32ab36a5",
   "metadata": {},
   "outputs": [
    {
     "data": {
      "application/vnd.jupyter.widget-view+json": {
       "model_id": "bdaeb117ab354498b7109547f23fb14c",
       "version_major": 2,
       "version_minor": 0
      },
      "text/plain": [
       "interactive(children=(ToggleButtons(description='Category:', options=('parameters', 'traits', 'interfaces'), v…"
      ]
     },
     "metadata": {},
     "output_type": "display_data"
    }
   ],
   "source": [
    "distribution = dict()\n",
    "distribution[\"parameters\"] = get_global_attr_distribution(stats, lambda x: len(x.parameters))\n",
    "distribution[\"traits\"] = get_global_attr_distribution(stats, lambda x: len(x.traits))\n",
    "distribution[\"interfaces\"] = get_global_attr_distribution(stats, lambda x: len(x.interfaces))\n",
    "\n",
    "category_plot(distribution)"
   ]
  },
  {
   "cell_type": "markdown",
   "id": "3c72cca4-b9a2-4429-afea-886b8fe55df6",
   "metadata": {},
   "source": [
    "# \"Declarativeness\" of current dialects"
   ]
  },
  {
   "cell_type": "code",
   "execution_count": 7,
   "id": "14025162-65fe-4733-ad18-50d02aaf34fe",
   "metadata": {},
   "outputs": [
    {
     "data": {
      "application/vnd.jupyter.widget-view+json": {
       "model_id": "330b41fa4c20411e86c0f1985fd145a5",
       "version_major": 2,
       "version_minor": 0
      },
      "text/plain": [
       "interactive(children=(ToggleButtons(description='Category:', options=('types', 'attributes', 'op has C++ parse…"
      ]
     },
     "metadata": {},
     "output_type": "display_data"
    }
   ],
   "source": [
    "distribution = dict()\n",
    "# TODO check constraints in types/attributes\n",
    "distribution[\"types\"] = get_global_type_distribution(stats, lambda x: int(not x.hasVerifier))\n",
    "distribution[\"attributes\"] = get_global_attr_distribution(stats, lambda x: int(not x.hasVerifier))\n",
    "distribution[\"op has C++ parser\"] = get_global_op_distribution(stats, lambda x: int(not x.hasAssemblyFormat))\n",
    "distribution[\"op has C++ verifier\"] = get_global_op_distribution(stats, lambda x: int(x.hasVerifier))\n",
    "# Number of operations that have declarative operands/results\n",
    "distribution[\"decl operands/results\"] = get_global_op_distribution(stats, lambda x: int(x.is_operands_results_attrs_declarative()))\n",
    "# Number of operations that have declarative traits\n",
    "distribution[\"decl op traits\"] = get_global_op_distribution(stats, lambda x: int(x.is_traits_declarative()))\n",
    "# Number of operations that have declarative operands, results, and no C++ verifiers\n",
    "distribution[\"decl ops without traits/interfaces\"] = get_global_op_distribution(stats, lambda x: int(x.is_declarative(check_traits=False, check_interfaces=False)))\n",
    "# Fully declarative\n",
    "distribution[\"decl ops without interfaces\"] = get_global_op_distribution(stats, lambda x: int(x.is_declarative(check_traits=True, check_interfaces=False)))\n",
    "# Fully declarative\n",
    "distribution[\"decl ops\"] = get_global_op_distribution(stats, lambda x: int(x.is_declarative(check_traits=True, check_interfaces=True)))\n",
    "\n",
    "category_plot(distribution)"
   ]
  },
  {
   "cell_type": "markdown",
   "id": "62128922-43f0-45eb-bc6a-e19be2a2faf6",
   "metadata": {},
   "source": [
    "# Printing dialects in IRDL"
   ]
  },
  {
   "cell_type": "code",
   "execution_count": 8,
   "id": "13c99d96-93a4-409d-bea1-58119a482fc5",
   "metadata": {},
   "outputs": [
    {
     "name": "stdout",
     "output_type": "stream",
     "text": [
      "AnyOf<builtin.integer<8, \"Signless\">, AnyOf<And<CppClass<::mlir::VectorType>, ShapedTypeOf<builtin.integer<8, \"Signless\">>>, And<CppClass<::mlir::TensorType>, ShapedTypeOf<builtin.integer<8, \"Signless\">>>>>\n",
      "AnyOf<builtin.integer<8, \"Signless\">, builtin.vector<Any, builtin.integer<8, \"Signless\">>, builtin.tensor<Any, builtin.integer<8, \"Signless\">, Any>>\n",
      "None\n",
      "None\n"
     ]
    },
    {
     "data": {
      "application/vnd.jupyter.widget-view+json": {
       "model_id": "3d77cbe8596c4c5daf87a9e2d94d3183",
       "version_major": 2,
       "version_minor": 0
      },
      "text/plain": [
       "interactive(children=(ToggleButtons(description='Dialect:', options=('builtin', 'sparse_tensor', 'tosa', 'scf'…"
      ]
     },
     "metadata": {},
     "output_type": "display_data"
    }
   ],
   "source": [
    "import analyze_tablegen.simplifier as simplifier\n",
    "\n",
    "stats_optimized = simplifier.simplify(stats)\n",
    "\n",
    "constr = stats.dialects[\"tosa\"].ops[\"tosa.apply_scale\"].operands[2].constraint\n",
    "constr_simplified = stats_optimized.dialects[\"tosa\"].ops[\"tosa.apply_scale\"].operands[2].constraint\n",
    "print(constr)\n",
    "print(constr_simplified)\n",
    "print(simplifier.AndRedundantSimplifier.is_redundant(constr_simplified.operands[1], constr_simplified.operands[2]))\n",
    "print(simplifier.AndRedundantSimplifier.simplify(constr_simplified))\n",
    "\n",
    "category_select = widgets.ToggleButtons(\n",
    "    options=dialect_names,\n",
    "    description='Dialect:',\n",
    "    disabled=False,\n",
    "    button_style='',\n",
    ")\n",
    "\n",
    "@widgets.interact(dialect_name=category_select)\n",
    "def print_dialect(dialect_name):\n",
    "    \n",
    "    optimization_select = widgets.ToggleButtons(\n",
    "        options=[\"unoptimized\", \"optimized\"],\n",
    "        description='',\n",
    "        disabled=False,\n",
    "        button_style='',\n",
    "    )\n",
    "    \n",
    "    @widgets.interact(optimization=optimization_select)\n",
    "    def print_optimized(optimization):\n",
    "        if optimization == \"optimized\":\n",
    "            stats_optimized.dialects[dialect_name].print()\n",
    "        else:\n",
    "            stats.dialects[dialect_name].print()"
   ]
  }
 ],
 "metadata": {
  "kernelspec": {
   "display_name": "Python 3 (ipykernel)",
   "language": "python",
   "name": "python3"
  },
  "language_info": {
   "codemirror_mode": {
    "name": "ipython",
    "version": 3
   },
   "file_extension": ".py",
   "mimetype": "text/x-python",
   "name": "python",
   "nbconvert_exporter": "python",
   "pygments_lexer": "ipython3",
   "version": "3.9.7"
  }
 },
 "nbformat": 4,
 "nbformat_minor": 5
}
